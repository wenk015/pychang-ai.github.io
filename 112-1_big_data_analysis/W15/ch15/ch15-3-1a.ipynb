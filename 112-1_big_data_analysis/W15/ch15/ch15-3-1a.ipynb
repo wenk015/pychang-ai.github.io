{
 "cells": [
  {
   "cell_type": "code",
   "execution_count": 1,
   "metadata": {},
   "outputs": [
    {
     "name": "stdout",
     "output_type": "stream",
     "text": [
      "迴歸係數: [ 4.12351586 -0.03452946]\n",
      "截距: 6.84552338439272\n",
      "[44.62773616]\n"
     ]
    }
   ],
   "source": [
    "import numpy as np\n",
    "import pandas as pd\n",
    "from sklearn.linear_model import LinearRegression\n",
    "\n",
    "area_dists = np.array([[10,80], [8,0], [8,200], \n",
    "                       [5,200], [7,300], [8,230],\n",
    "                       [7,40], [9,0], [6,330],\n",
    "                       [9,180]])\n",
    "sales = np.array([46.9, 36.6, 37.1, 20.8,\n",
    "                    24.6, 29.7, 36.6, 43.6,\n",
    "                    19.8, 36.4])\n",
    "X = pd.DataFrame(area_dists, columns=[\"店面積\", \"距捷運\"])\n",
    "target = pd.DataFrame(sales, columns=[\"月營收\"])\n",
    "y = target[\"月營收\"]\n",
    "lm = LinearRegression()\n",
    "lm.fit(X, y)\n",
    "print(\"迴歸係數:\", lm.coef_)\n",
    "print(\"截距:\", lm.intercept_ )\n",
    "\n",
    "# 預測腰面積和距離[10,100]的營業額\n",
    "new_area_dists = pd.DataFrame(np.array([[10, 100]]),\n",
    "                              columns=[\"店面積\", \"距捷運\"])\n",
    "predicted_sales = lm.predict(new_area_dists)\n",
    "print(predicted_sales)\n"
   ]
  }
 ],
 "metadata": {
  "kernelspec": {
   "display_name": "bigdata",
   "language": "python",
   "name": "python3"
  },
  "language_info": {
   "codemirror_mode": {
    "name": "ipython",
    "version": 3
   },
   "file_extension": ".py",
   "mimetype": "text/x-python",
   "name": "python",
   "nbconvert_exporter": "python",
   "pygments_lexer": "ipython3",
   "version": "3.8.18"
  }
 },
 "nbformat": 4,
 "nbformat_minor": 2
}
